{
 "cells": [
  {
   "cell_type": "code",
   "execution_count": 25,
   "metadata": {},
   "outputs": [
    {
     "output_type": "stream",
     "name": "stdout",
     "text": "[5 0 4 ... 5 6 8]\n"
    }
   ],
   "source": [
    "import keras\n",
    "import os\n",
    "import pandas as pd\n",
    "import numpy as np\n",
    "import matplotlib as plt\n",
    "from keras.datasets import mnist\n",
    "import pprint\n",
    "cwd = os.getcwd()\n",
    "\n",
    "path = cwd+'/sign_language/sign_mnist_train.csv'\n",
    "\n",
    "# y_train = np.genfromtxt(path, skip_header=1, delimiter=',', usecols=[0]])\n",
    "# x_train = np.genfromtxt(path, skip_header=1, delimiter=',', usecols=[x for x in range(1,784)])\n",
    "\n",
    "# print(train.shape)\n",
    "\n",
    "(x_train, y_train), (x_test, y_test) = mnist.load_data()\n",
    "print(y_train.shape)\n",
    "\n",
    "# print(train.shape)"
   ]
  }
 ],
 "metadata": {
  "language_info": {
   "codemirror_mode": {
    "name": "ipython",
    "version": 3
   },
   "file_extension": ".py",
   "mimetype": "text/x-python",
   "name": "python",
   "nbconvert_exporter": "python",
   "pygments_lexer": "ipython3",
   "version": "3.7.4-final"
  },
  "orig_nbformat": 2,
  "kernelspec": {
   "name": "python37464bit65c83410492a4cc49ffcb85a7cf99513",
   "display_name": "Python 3.7.4 64-bit"
  }
 },
 "nbformat": 4,
 "nbformat_minor": 2
}