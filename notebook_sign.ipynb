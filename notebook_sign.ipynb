{
 "cells": [
  {
   "cell_type": "code",
   "execution_count": 40,
   "metadata": {},
   "outputs": [
    {
     "output_type": "stream",
     "name": "stdout",
     "text": "(27455, 784)\n"
    }
   ],
   "source": [
    "import keras\n",
    "import os\n",
    "import pandas as pd\n",
    "import numpy as np\n",
    "import matplotlib as plt\n",
    "from keras.datasets import mnist\n",
    "import pprint\n",
    "cwd = os.getcwd()\n",
    "\n",
    "path = cwd+'/sign_language/sign_mnist_train.csv'\n",
    "\n",
    "y_train = np.genfromtxt(path, skip_header=1, delimiter=',', usecols=[0]])\n",
    "x_train = np.genfromtxt(path, skip_header=1, delimiter=',', usecols=[x for x in range(1,785)])\n",
    "\n",
    "print(x_train.shape)\n",
    "\n",
    "# (x_train, y_train), (x_test, y_test) = mnist.load_data()\n",
    "# print(x_train.shape)\n",
    "\n",
    "# print(train.shape)"
   ]
  },
  {
   "cell_type": "code",
   "execution_count": 43,
   "metadata": {},
   "outputs": [
    {
     "output_type": "stream",
     "name": "stdout",
     "text": "[[[107. 118. 127. ... 170. 170. 169.]\n  [111. 121. 129. ... 171. 171. 170.]\n  [113. 123. 131. ... 171. 171. 171.]\n  ...\n  [142. 150. 159. ... 202. 201. 200.]\n  [142. 151. 160. ... 204. 203. 202.]\n  [142. 151. 160. ... 204. 203. 202.]]\n\n [[155. 157. 156. ... 138.  92. 108.]\n  [158. 159. 159. ... 142. 116. 143.]\n  [161. 161. 161. ... 147. 125. 140.]\n  ...\n  [162. 159. 145. ...  91. 101.  94.]\n  [153. 139. 115. ...  97.  95. 120.]\n  [135. 116.  95. ... 103. 135. 149.]]\n\n [[187. 188. 188. ...  66.  77.  83.]\n  [188. 189. 189. ...  73.  73.  71.]\n  [190. 190. 190. ...  74.  68.  61.]\n  ...\n  [212. 198. 175. ... 195. 193. 192.]\n  [202. 179. 152. ... 195. 194. 193.]\n  [198. 166. 132. ... 195. 194. 195.]]\n\n ...\n\n [[174. 174. 174. ... 160. 158. 156.]\n  [178. 178. 177. ... 162. 160. 158.]\n  [181. 180. 180. ... 164. 162. 161.]\n  ...\n  [215. 216. 216. ... 201. 199. 198.]\n  [216. 217. 217. ... 201. 200. 198.]\n  [217. 217. 217. ... 202. 200. 200.]]\n\n [[177. 181. 184. ... 181. 179. 177.]\n  [179. 182. 185. ... 183. 181. 179.]\n  [181. 184. 187. ... 185. 183. 182.]\n  ...\n  [129. 132. 134. ...  94. 102.  70.]\n  [131. 134. 132. ...  78. 100.  86.]\n  [136. 135. 135. ...  64.  87.  93.]]\n\n [[179. 180. 180. ...  47.  30.  39.]\n  [180. 182. 183. ...  79.  24.  34.]\n  [184. 184. 185. ... 115.  25.  29.]\n  ...\n  [ 90.  94.  76. ... 109. 150. 172.]\n  [ 94.  93.  89. ... 202. 213. 215.]\n  [ 96.  88. 109. ... 205. 209. 215.]]]\n"
    }
   ],
   "source": [
    "x_train = x_train.reshape(27455, 28,28)\n",
    "\n",
    "print(x_train)"
   ]
  }
 ],
 "metadata": {
  "language_info": {
   "codemirror_mode": {
    "name": "ipython",
    "version": 3
   },
   "file_extension": ".py",
   "mimetype": "text/x-python",
   "name": "python",
   "nbconvert_exporter": "python",
   "pygments_lexer": "ipython3",
   "version": "3.7.4-final"
  },
  "orig_nbformat": 2,
  "kernelspec": {
   "name": "python37464bit65c83410492a4cc49ffcb85a7cf99513",
   "display_name": "Python 3.7.4 64-bit"
  }
 },
 "nbformat": 4,
 "nbformat_minor": 2
}